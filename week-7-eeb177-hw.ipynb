{
 "cells": [
  {
   "cell_type": "markdown",
   "metadata": {},
   "source": [
    "## Web Scraping"
   ]
  },
  {
   "cell_type": "markdown",
   "metadata": {},
   "source": [
    "### Flame AngelFish\n",
    "\n",
    "In order to get the website information into our terminal, perform the following:\n",
    "\n",
    "```\n",
    "curl -s http://fishbase.us/summary/SpeciesSummary.php?ID=7814&AT=Flame%20angel%20fish > flamefish.html\n",
    "\n",
    "```\n",
    "\n",
    "1) The maximum length of the flame angelfish is 15.0 cm.\n",
    "\n",
    "```\n",
    "grep \"Max length\" flamefish.html\n",
    "\n",
    "```\n",
    "\n",
    "2) The flame angelfish can be found in clear lagoons and seaward reefs.\n",
    "\n",
    "```\n",
    "grep found flamefish.html\n",
    "\n",
    "```"
   ]
  },
  {
   "cell_type": "markdown",
   "metadata": {},
   "source": [
    "## Mandarinfish\n",
    "\n",
    "To get the information from the website:\n",
    "\n",
    "```\n",
    "curl -s http://fishbase.us/summary/SpeciesSummary.php?ID=12740&AT=mandarinfish > mandarinfish.html\n",
    "\n",
    "```\n",
    "\n",
    "1) The maximum length of the mandarinfish is 7.0 cm. \n",
    "\n",
    "```\n",
    "grep \"Max length\" mandarinfish.html\n",
    "\n",
    "```\n",
    "\n",
    "2) The mandarinfish can be found in sandy bottoms of shallow sheltered reefs.\n",
    "\n",
    "```\n",
    "grep found mandarinfish.html\n",
    "\n",
    "```"
   ]
  },
  {
   "cell_type": "code",
   "execution_count": null,
   "metadata": {
    "collapsed": true
   },
   "outputs": [],
   "source": []
  }
 ],
 "metadata": {
  "anaconda-cloud": {},
  "kernelspec": {
   "display_name": "Python [conda root]",
   "language": "python",
   "name": "conda-root-py"
  },
  "language_info": {
   "codemirror_mode": {
    "name": "ipython",
    "version": 3
   },
   "file_extension": ".py",
   "mimetype": "text/x-python",
   "name": "python",
   "nbconvert_exporter": "python",
   "pygments_lexer": "ipython3",
   "version": "3.5.2"
  }
 },
 "nbformat": 4,
 "nbformat_minor": 2
}
